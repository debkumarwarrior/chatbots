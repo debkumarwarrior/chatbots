{
 "cells": [
  {
   "cell_type": "code",
   "execution_count": 1,
   "metadata": {},
   "outputs": [],
   "source": [
    "import pandas as pd\n",
    "import numpy as np\n",
    "import os\n",
    "import re\n",
    "import json\n",
    "import glob as glob"
   ]
  },
  {
   "cell_type": "code",
   "execution_count": 2,
   "metadata": {},
   "outputs": [],
   "source": [
    "DATA_PATH = 'C:/Users/Warrior/Code/Data/data/movielens'"
   ]
  },
  {
   "cell_type": "code",
   "execution_count": 3,
   "metadata": {},
   "outputs": [
    {
     "data": {
      "text/plain": [
       "['C:/Users/Warrior/Code/Data/data/movielens\\\\links.csv',\n",
       " 'C:/Users/Warrior/Code/Data/data/movielens\\\\movies.csv',\n",
       " 'C:/Users/Warrior/Code/Data/data/movielens\\\\ratings.csv',\n",
       " 'C:/Users/Warrior/Code/Data/data/movielens\\\\tags.csv']"
      ]
     },
     "execution_count": 3,
     "metadata": {},
     "output_type": "execute_result"
    }
   ],
   "source": [
    "glob.glob(DATA_PATH + '/*.csv')"
   ]
  },
  {
   "cell_type": "code",
   "execution_count": 4,
   "metadata": {},
   "outputs": [],
   "source": [
    "FILES = glob.glob(DATA_PATH + '/*.csv')"
   ]
  },
  {
   "cell_type": "code",
   "execution_count": 5,
   "metadata": {},
   "outputs": [],
   "source": [
    "df = dict()\n",
    "for file in FILES:\n",
    "    name = file[file.rindex('\\\\') + 1:file.rindex('.') - 1]\n",
    "    df[name] = pd.read_csv(file,encoding='utf-8')"
   ]
  },
  {
   "cell_type": "code",
   "execution_count": 6,
   "metadata": {},
   "outputs": [
    {
     "data": {
      "text/plain": [
       "{'link':       movieId   imdbId    tmdbId\n",
       " 0           1   114709     862.0\n",
       " 1           2   113497    8844.0\n",
       " 2           3   113228   15602.0\n",
       " 3           4   114885   31357.0\n",
       " 4           5   113041   11862.0\n",
       " ...       ...      ...       ...\n",
       " 9120   162672  3859980  402672.0\n",
       " 9121   163056  4262980  315011.0\n",
       " 9122   163949  2531318  391698.0\n",
       " 9123   164977    27660  137608.0\n",
       " 9124   164979  3447228  410803.0\n",
       " \n",
       " [9125 rows x 3 columns],\n",
       " 'movie':       movieId                                              title  \\\n",
       " 0           1                                   Toy Story (1995)   \n",
       " 1           2                                     Jumanji (1995)   \n",
       " 2           3                            Grumpier Old Men (1995)   \n",
       " 3           4                           Waiting to Exhale (1995)   \n",
       " 4           5                 Father of the Bride Part II (1995)   \n",
       " ...       ...                                                ...   \n",
       " 9120   162672                                Mohenjo Daro (2016)   \n",
       " 9121   163056                               Shin Godzilla (2016)   \n",
       " 9122   163949  The Beatles: Eight Days a Week - The Touring Y...   \n",
       " 9123   164977                           The Gay Desperado (1936)   \n",
       " 9124   164979                              Women of '69, Unboxed   \n",
       " \n",
       "                                            genres  \n",
       " 0     Adventure|Animation|Children|Comedy|Fantasy  \n",
       " 1                      Adventure|Children|Fantasy  \n",
       " 2                                  Comedy|Romance  \n",
       " 3                            Comedy|Drama|Romance  \n",
       " 4                                          Comedy  \n",
       " ...                                           ...  \n",
       " 9120                      Adventure|Drama|Romance  \n",
       " 9121              Action|Adventure|Fantasy|Sci-Fi  \n",
       " 9122                                  Documentary  \n",
       " 9123                                       Comedy  \n",
       " 9124                                  Documentary  \n",
       " \n",
       " [9125 rows x 3 columns],\n",
       " 'rating':         userId  movieId  rating   timestamp\n",
       " 0            1       31     2.5  1260759144\n",
       " 1            1     1029     3.0  1260759179\n",
       " 2            1     1061     3.0  1260759182\n",
       " 3            1     1129     2.0  1260759185\n",
       " 4            1     1172     4.0  1260759205\n",
       " ...        ...      ...     ...         ...\n",
       " 99999      671     6268     2.5  1065579370\n",
       " 100000     671     6269     4.0  1065149201\n",
       " 100001     671     6365     4.0  1070940363\n",
       " 100002     671     6385     2.5  1070979663\n",
       " 100003     671     6565     3.5  1074784724\n",
       " \n",
       " [100004 rows x 4 columns],\n",
       " 'tag':       userId  movieId                      tag   timestamp\n",
       " 0         15      339  sandra 'boring' bullock  1138537770\n",
       " 1         15     1955                  dentist  1193435061\n",
       " 2         15     7478                 Cambodia  1170560997\n",
       " 3         15    32892                  Russian  1170626366\n",
       " 4         15    34162              forgettable  1141391765\n",
       " ...      ...      ...                      ...         ...\n",
       " 1291     660   135518          meaning of life  1436680885\n",
       " 1292     660   135518            philosophical  1436680885\n",
       " 1293     660   135518                   sci-fi  1436680885\n",
       " 1294     663      260                   action  1438398078\n",
       " 1295     663      260                     Syfy  1438398050\n",
       " \n",
       " [1296 rows x 4 columns]}"
      ]
     },
     "execution_count": 6,
     "metadata": {},
     "output_type": "execute_result"
    }
   ],
   "source": [
    "df"
   ]
  },
  {
   "cell_type": "code",
   "execution_count": 7,
   "metadata": {},
   "outputs": [
    {
     "data": {
      "text/plain": [
       "dict_keys(['link', 'movie', 'rating', 'tag'])"
      ]
     },
     "execution_count": 7,
     "metadata": {},
     "output_type": "execute_result"
    }
   ],
   "source": [
    "df.keys()"
   ]
  },
  {
   "cell_type": "code",
   "execution_count": 8,
   "metadata": {},
   "outputs": [],
   "source": [
    "joined = pd.merge(df['movie'], df['link'], on='movieId')"
   ]
  },
  {
   "cell_type": "code",
   "execution_count": 9,
   "metadata": {},
   "outputs": [],
   "source": [
    "df_avg_ratings = df['rating'].groupby('movieId').agg(np.mean)"
   ]
  },
  {
   "cell_type": "code",
   "execution_count": 10,
   "metadata": {},
   "outputs": [
    {
     "data": {
      "text/html": [
       "<div>\n",
       "<style scoped>\n",
       "    .dataframe tbody tr th:only-of-type {\n",
       "        vertical-align: middle;\n",
       "    }\n",
       "\n",
       "    .dataframe tbody tr th {\n",
       "        vertical-align: top;\n",
       "    }\n",
       "\n",
       "    .dataframe thead th {\n",
       "        text-align: right;\n",
       "    }\n",
       "</style>\n",
       "<table border=\"1\" class=\"dataframe\">\n",
       "  <thead>\n",
       "    <tr style=\"text-align: right;\">\n",
       "      <th></th>\n",
       "      <th>userId</th>\n",
       "      <th>rating</th>\n",
       "      <th>timestamp</th>\n",
       "    </tr>\n",
       "    <tr>\n",
       "      <th>movieId</th>\n",
       "      <th></th>\n",
       "      <th></th>\n",
       "      <th></th>\n",
       "    </tr>\n",
       "  </thead>\n",
       "  <tbody>\n",
       "    <tr>\n",
       "      <th>1</th>\n",
       "      <td>338.558704</td>\n",
       "      <td>3.872470</td>\n",
       "      <td>1.103116e+09</td>\n",
       "    </tr>\n",
       "    <tr>\n",
       "      <th>2</th>\n",
       "      <td>318.906542</td>\n",
       "      <td>3.401869</td>\n",
       "      <td>1.069321e+09</td>\n",
       "    </tr>\n",
       "    <tr>\n",
       "      <th>3</th>\n",
       "      <td>374.423729</td>\n",
       "      <td>3.161017</td>\n",
       "      <td>9.662429e+08</td>\n",
       "    </tr>\n",
       "    <tr>\n",
       "      <th>4</th>\n",
       "      <td>355.538462</td>\n",
       "      <td>2.384615</td>\n",
       "      <td>9.277797e+08</td>\n",
       "    </tr>\n",
       "    <tr>\n",
       "      <th>5</th>\n",
       "      <td>320.785714</td>\n",
       "      <td>3.267857</td>\n",
       "      <td>9.967201e+08</td>\n",
       "    </tr>\n",
       "    <tr>\n",
       "      <th>...</th>\n",
       "      <td>...</td>\n",
       "      <td>...</td>\n",
       "      <td>...</td>\n",
       "    </tr>\n",
       "    <tr>\n",
       "      <th>161944</th>\n",
       "      <td>287.000000</td>\n",
       "      <td>5.000000</td>\n",
       "      <td>1.470168e+09</td>\n",
       "    </tr>\n",
       "    <tr>\n",
       "      <th>162376</th>\n",
       "      <td>73.000000</td>\n",
       "      <td>4.500000</td>\n",
       "      <td>1.474256e+09</td>\n",
       "    </tr>\n",
       "    <tr>\n",
       "      <th>162542</th>\n",
       "      <td>611.000000</td>\n",
       "      <td>5.000000</td>\n",
       "      <td>1.471521e+09</td>\n",
       "    </tr>\n",
       "    <tr>\n",
       "      <th>162672</th>\n",
       "      <td>611.000000</td>\n",
       "      <td>3.000000</td>\n",
       "      <td>1.471524e+09</td>\n",
       "    </tr>\n",
       "    <tr>\n",
       "      <th>163949</th>\n",
       "      <td>547.000000</td>\n",
       "      <td>5.000000</td>\n",
       "      <td>1.476419e+09</td>\n",
       "    </tr>\n",
       "  </tbody>\n",
       "</table>\n",
       "<p>9066 rows × 3 columns</p>\n",
       "</div>"
      ],
      "text/plain": [
       "             userId    rating     timestamp\n",
       "movieId                                    \n",
       "1        338.558704  3.872470  1.103116e+09\n",
       "2        318.906542  3.401869  1.069321e+09\n",
       "3        374.423729  3.161017  9.662429e+08\n",
       "4        355.538462  2.384615  9.277797e+08\n",
       "5        320.785714  3.267857  9.967201e+08\n",
       "...             ...       ...           ...\n",
       "161944   287.000000  5.000000  1.470168e+09\n",
       "162376    73.000000  4.500000  1.474256e+09\n",
       "162542   611.000000  5.000000  1.471521e+09\n",
       "162672   611.000000  3.000000  1.471524e+09\n",
       "163949   547.000000  5.000000  1.476419e+09\n",
       "\n",
       "[9066 rows x 3 columns]"
      ]
     },
     "execution_count": 10,
     "metadata": {},
     "output_type": "execute_result"
    }
   ],
   "source": [
    "df_avg_ratings"
   ]
  },
  {
   "cell_type": "code",
   "execution_count": 11,
   "metadata": {},
   "outputs": [],
   "source": [
    "joined = pd.merge(joined, df_avg_ratings, on='movieId')"
   ]
  },
  {
   "cell_type": "code",
   "execution_count": 12,
   "metadata": {},
   "outputs": [
    {
     "data": {
      "text/plain": [
       "Index(['movieId', 'imdbId', 'tmdbId'], dtype='object')"
      ]
     },
     "execution_count": 12,
     "metadata": {},
     "output_type": "execute_result"
    }
   ],
   "source": [
    "df['link'].columns"
   ]
  },
  {
   "cell_type": "code",
   "execution_count": 26,
   "metadata": {},
   "outputs": [
    {
     "data": {
      "text/plain": [
       "Index(['userId', 'movieId', 'tag', 'timestamp'], dtype='object')"
      ]
     },
     "execution_count": 26,
     "metadata": {},
     "output_type": "execute_result"
    }
   ],
   "source": [
    "df['tag'].columns"
   ]
  },
  {
   "cell_type": "code",
   "execution_count": 27,
   "metadata": {},
   "outputs": [
    {
     "data": {
      "text/html": [
       "<div>\n",
       "<style scoped>\n",
       "    .dataframe tbody tr th:only-of-type {\n",
       "        vertical-align: middle;\n",
       "    }\n",
       "\n",
       "    .dataframe tbody tr th {\n",
       "        vertical-align: top;\n",
       "    }\n",
       "\n",
       "    .dataframe thead th {\n",
       "        text-align: right;\n",
       "    }\n",
       "</style>\n",
       "<table border=\"1\" class=\"dataframe\">\n",
       "  <thead>\n",
       "    <tr style=\"text-align: right;\">\n",
       "      <th></th>\n",
       "      <th>userId</th>\n",
       "      <th>movieId</th>\n",
       "      <th>tag</th>\n",
       "      <th>timestamp</th>\n",
       "    </tr>\n",
       "  </thead>\n",
       "  <tbody>\n",
       "    <tr>\n",
       "      <th>311</th>\n",
       "      <td>346</td>\n",
       "      <td>7022</td>\n",
       "      <td>explosions</td>\n",
       "      <td>1159734326</td>\n",
       "    </tr>\n",
       "    <tr>\n",
       "      <th>522</th>\n",
       "      <td>364</td>\n",
       "      <td>115617</td>\n",
       "      <td>pixar</td>\n",
       "      <td>1444530397</td>\n",
       "    </tr>\n",
       "    <tr>\n",
       "      <th>390</th>\n",
       "      <td>364</td>\n",
       "      <td>1732</td>\n",
       "      <td>Jeff Bridges</td>\n",
       "      <td>1444535201</td>\n",
       "    </tr>\n",
       "    <tr>\n",
       "      <th>44</th>\n",
       "      <td>132</td>\n",
       "      <td>27255</td>\n",
       "      <td>No progress</td>\n",
       "      <td>1283581045</td>\n",
       "    </tr>\n",
       "    <tr>\n",
       "      <th>358</th>\n",
       "      <td>364</td>\n",
       "      <td>318</td>\n",
       "      <td>narrated</td>\n",
       "      <td>1444529829</td>\n",
       "    </tr>\n",
       "    <tr>\n",
       "      <th>616</th>\n",
       "      <td>431</td>\n",
       "      <td>1250</td>\n",
       "      <td>war</td>\n",
       "      <td>1140455073</td>\n",
       "    </tr>\n",
       "    <tr>\n",
       "      <th>667</th>\n",
       "      <td>431</td>\n",
       "      <td>6281</td>\n",
       "      <td>collin farrel</td>\n",
       "      <td>1140455383</td>\n",
       "    </tr>\n",
       "    <tr>\n",
       "      <th>819</th>\n",
       "      <td>531</td>\n",
       "      <td>35836</td>\n",
       "      <td>funny</td>\n",
       "      <td>1243454588</td>\n",
       "    </tr>\n",
       "    <tr>\n",
       "      <th>967</th>\n",
       "      <td>547</td>\n",
       "      <td>7792</td>\n",
       "      <td>holes70s</td>\n",
       "      <td>1342849103</td>\n",
       "    </tr>\n",
       "    <tr>\n",
       "      <th>59</th>\n",
       "      <td>138</td>\n",
       "      <td>4226</td>\n",
       "      <td>psychology</td>\n",
       "      <td>1440380115</td>\n",
       "    </tr>\n",
       "  </tbody>\n",
       "</table>\n",
       "</div>"
      ],
      "text/plain": [
       "     userId  movieId            tag   timestamp\n",
       "311     346     7022     explosions  1159734326\n",
       "522     364   115617          pixar  1444530397\n",
       "390     364     1732   Jeff Bridges  1444535201\n",
       "44      132    27255    No progress  1283581045\n",
       "358     364      318       narrated  1444529829\n",
       "616     431     1250            war  1140455073\n",
       "667     431     6281  collin farrel  1140455383\n",
       "819     531    35836          funny  1243454588\n",
       "967     547     7792       holes70s  1342849103\n",
       "59      138     4226     psychology  1440380115"
      ]
     },
     "execution_count": 27,
     "metadata": {},
     "output_type": "execute_result"
    }
   ],
   "source": [
    "df['tag'].sample(10)"
   ]
  },
  {
   "cell_type": "code",
   "execution_count": 13,
   "metadata": {},
   "outputs": [],
   "source": [
    "joined = pd.merge(joined,df['link'], on='movieId')"
   ]
  },
  {
   "cell_type": "code",
   "execution_count": 14,
   "metadata": {},
   "outputs": [
    {
     "data": {
      "text/plain": [
       "Index(['movieId', 'title', 'genres', 'imdbId_x', 'tmdbId_x', 'userId',\n",
       "       'rating', 'timestamp', 'imdbId_y', 'tmdbId_y'],\n",
       "      dtype='object')"
      ]
     },
     "execution_count": 14,
     "metadata": {},
     "output_type": "execute_result"
    }
   ],
   "source": [
    "joined.columns"
   ]
  },
  {
   "cell_type": "code",
   "execution_count": 15,
   "metadata": {},
   "outputs": [
    {
     "data": {
      "text/plain": [
       "Int64Index([   0,    1,    2,    3,    4,    5,    6,    7,    8,    9,\n",
       "            ...\n",
       "            9056, 9057, 9058, 9059, 9060, 9061, 9062, 9063, 9064, 9065],\n",
       "           dtype='int64', length=9066)"
      ]
     },
     "execution_count": 15,
     "metadata": {},
     "output_type": "execute_result"
    }
   ],
   "source": [
    "joined.index"
   ]
  },
  {
   "cell_type": "code",
   "execution_count": 16,
   "metadata": {},
   "outputs": [
    {
     "data": {
      "text/html": [
       "<div>\n",
       "<style scoped>\n",
       "    .dataframe tbody tr th:only-of-type {\n",
       "        vertical-align: middle;\n",
       "    }\n",
       "\n",
       "    .dataframe tbody tr th {\n",
       "        vertical-align: top;\n",
       "    }\n",
       "\n",
       "    .dataframe thead th {\n",
       "        text-align: right;\n",
       "    }\n",
       "</style>\n",
       "<table border=\"1\" class=\"dataframe\">\n",
       "  <thead>\n",
       "    <tr style=\"text-align: right;\">\n",
       "      <th></th>\n",
       "      <th>movieId</th>\n",
       "      <th>title</th>\n",
       "      <th>genres</th>\n",
       "      <th>imdbId_x</th>\n",
       "      <th>tmdbId_x</th>\n",
       "      <th>userId</th>\n",
       "      <th>rating</th>\n",
       "      <th>timestamp</th>\n",
       "      <th>imdbId_y</th>\n",
       "      <th>tmdbId_y</th>\n",
       "    </tr>\n",
       "  </thead>\n",
       "  <tbody>\n",
       "    <tr>\n",
       "      <th>6224</th>\n",
       "      <td>37741</td>\n",
       "      <td>Capote (2005)</td>\n",
       "      <td>Crime|Drama</td>\n",
       "      <td>379725</td>\n",
       "      <td>398.0</td>\n",
       "      <td>428.0</td>\n",
       "      <td>3.921053</td>\n",
       "      <td>1.246055e+09</td>\n",
       "      <td>379725</td>\n",
       "      <td>398.0</td>\n",
       "    </tr>\n",
       "    <tr>\n",
       "      <th>5842</th>\n",
       "      <td>26776</td>\n",
       "      <td>Porco Rosso (Crimson Pig) (Kurenai no buta) (1...</td>\n",
       "      <td>Adventure|Animation|Comedy|Fantasy|Romance</td>\n",
       "      <td>104652</td>\n",
       "      <td>11621.0</td>\n",
       "      <td>350.5</td>\n",
       "      <td>3.916667</td>\n",
       "      <td>1.393564e+09</td>\n",
       "      <td>104652</td>\n",
       "      <td>11621.0</td>\n",
       "    </tr>\n",
       "  </tbody>\n",
       "</table>\n",
       "</div>"
      ],
      "text/plain": [
       "      movieId                                              title  \\\n",
       "6224    37741                                      Capote (2005)   \n",
       "5842    26776  Porco Rosso (Crimson Pig) (Kurenai no buta) (1...   \n",
       "\n",
       "                                          genres  imdbId_x  tmdbId_x  userId  \\\n",
       "6224                                 Crime|Drama    379725     398.0   428.0   \n",
       "5842  Adventure|Animation|Comedy|Fantasy|Romance    104652   11621.0   350.5   \n",
       "\n",
       "        rating     timestamp  imdbId_y  tmdbId_y  \n",
       "6224  3.921053  1.246055e+09    379725     398.0  \n",
       "5842  3.916667  1.393564e+09    104652   11621.0  "
      ]
     },
     "execution_count": 16,
     "metadata": {},
     "output_type": "execute_result"
    }
   ],
   "source": [
    "joined.sample(2)"
   ]
  },
  {
   "cell_type": "code",
   "execution_count": 17,
   "metadata": {},
   "outputs": [],
   "source": [
    "def parse_name_year(string):\n",
    "    PATTERN = re.compile(r'\\([0-9]{4}\\)')\n",
    "    found = re.search(PATTERN, string)\n",
    "    if found:\n",
    "        name = string[:found.start() - 1]\n",
    "        year = string[found.start() + 1:found.end() - 1]\n",
    "        return name.strip(), int(year)\n",
    "    else:\n",
    "        return string.strip(), None    "
   ]
  },
  {
   "cell_type": "code",
   "execution_count": 18,
   "metadata": {
    "scrolled": true
   },
   "outputs": [
    {
     "data": {
      "text/plain": [
       "('Hide and Seek', 2005)"
      ]
     },
     "execution_count": 18,
     "metadata": {},
     "output_type": "execute_result"
    }
   ],
   "source": [
    "parse_name_year('Hide and Seek (2005)')"
   ]
  },
  {
   "cell_type": "code",
   "execution_count": 19,
   "metadata": {},
   "outputs": [
    {
     "data": {
      "text/plain": [
       "('Hide and Seek', None)"
      ]
     },
     "execution_count": 19,
     "metadata": {},
     "output_type": "execute_result"
    }
   ],
   "source": [
    "parse_name_year('Hide and Seek')"
   ]
  },
  {
   "cell_type": "code",
   "execution_count": 20,
   "metadata": {},
   "outputs": [],
   "source": [
    "joined['genres'] = joined['genres'].apply(lambda s : s.lower())"
   ]
  },
  {
   "cell_type": "code",
   "execution_count": 21,
   "metadata": {},
   "outputs": [],
   "source": [
    "knowledge_base = {'movie':[]}\n",
    "for idx in joined.index:\n",
    "    movie = {}\n",
    "    name,year = parse_name_year(joined['title'][idx])\n",
    "    movie['name'] = name\n",
    "    if year:\n",
    "        movie['year'] = year\n",
    "    movie['id'] = int(joined['movieId'][idx])\n",
    "    movie['rating'] = float(joined['rating'][idx])\n",
    "    movie['imdb'] = int(joined['imdbId_x'][idx])\n",
    "    movie['genre'] = joined['genres'][idx].split('|')\n",
    "    knowledge_base['movie'].append(movie)"
   ]
  },
  {
   "cell_type": "code",
   "execution_count": 22,
   "metadata": {},
   "outputs": [],
   "source": [
    "with open('knowledge_data.json','w', encoding='utf-8') as fp:\n",
    "    fp.write(json.dumps(knowledge_base, indent=4))"
   ]
  },
  {
   "cell_type": "code",
   "execution_count": 23,
   "metadata": {},
   "outputs": [],
   "source": [
    "with open('movies.txt','w', encoding='utf-8') as fp:\n",
    "    movie_list = [m['name'] for m in knowledge_base['movie']]\n",
    "    fp.write('\\n'.join(movie_list))"
   ]
  },
  {
   "cell_type": "code",
   "execution_count": 24,
   "metadata": {},
   "outputs": [],
   "source": [
    "with open('genres.txt','w', encoding='utf-8') as fp:\n",
    "    genre_list = set()\n",
    "    for m in knowledge_base['movie']:\n",
    "        for g in m['genre']:\n",
    "            genre_list.add(g)\n",
    "    fp.write('\\n'.join(list(genre_list)))"
   ]
  },
  {
   "cell_type": "code",
   "execution_count": null,
   "metadata": {},
   "outputs": [],
   "source": []
  }
 ],
 "metadata": {
  "kernelspec": {
   "display_name": "Python 3",
   "language": "python",
   "name": "python3"
  },
  "language_info": {
   "codemirror_mode": {
    "name": "ipython",
    "version": 3
   },
   "file_extension": ".py",
   "mimetype": "text/x-python",
   "name": "python",
   "nbconvert_exporter": "python",
   "pygments_lexer": "ipython3",
   "version": "3.7.0"
  }
 },
 "nbformat": 4,
 "nbformat_minor": 4
}
